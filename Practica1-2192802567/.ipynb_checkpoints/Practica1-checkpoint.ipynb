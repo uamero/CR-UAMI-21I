{
 "cells": [
  {
   "cell_type": "markdown",
   "metadata": {},
   "source": [
    "# Importamos las librerías a utilizar"
   ]
  },
  {
   "cell_type": "code",
   "execution_count": 1,
   "metadata": {},
   "outputs": [],
   "source": [
    "#Para crear y análizar redes\n",
    "import networkx as nx\n",
    "#Para dibujar redes y graficar funciones\n",
    "#import matplotlib.pyplot as plt"
   ]
  },
  {
   "cell_type": "markdown",
   "metadata": {},
   "source": [
    "# Creación de la red"
   ]
  },
  {
   "cell_type": "markdown",
   "metadata": {},
   "source": [
    "Creamos la red como una lista de enlaces.\n",
    "Python distingue entre mayúsculas y minúsculas. "
   ]
  },
  {
   "cell_type": "code",
   "execution_count": 2,
   "metadata": {},
   "outputs": [],
   "source": [
    "lista_enlaces = [(\"Alicia\",\"Beto\"),\n",
    "             (\"Carlos\",\"Alicia\"),\n",
    "             (\"Alicia\",\"David\"),\n",
    "             (\"Alicia\",\"Carmen\"),\n",
    "             (\"Alicia\",\"Monica\"),\n",
    "             (\"Beto\",\"Jorge\"),\n",
    "             (\"Jorge\",\"Enrique\"),\n",
    "             (\"Enrique\",\"Rosa\"),\n",
    "             (\"Rosa\",\"Jorge\"),\n",
    "             (\"Enrique\",\"Irene\"),\n",
    "             (\"Irene\",\"Jorge\"),\n",
    "             (\"Irene\",\"Rosa\"),\n",
    "             (\"Carmen\",\"Monica\"),\n",
    "             (\"David\",\"Carlos\"),\n",
    "             (\"Carlos\",\"Monica\"),\n",
    "             (\"Carmen\",\"Irene\")]"
   ]
  },
  {
   "cell_type": "markdown",
   "metadata": {},
   "source": [
    "Creamos la red"
   ]
  },
  {
   "cell_type": "code",
   "execution_count": 3,
   "metadata": {},
   "outputs": [],
   "source": [
    "G = nx.Graph(lista_enlaces)"
   ]
  },
  {
   "cell_type": "markdown",
   "metadata": {},
   "source": [
    "## Dibujamos y guardamos la red"
   ]
  },
  {
   "cell_type": "code",
   "execution_count": 5,
   "metadata": {},
   "outputs": [
    {
     "data": {
      "image/png": "[encoded data removed]",
      "text/plain": [
       "<Figure size 432x288 with 1 Axes>"
      ]
     },
     "metadata": {},
     "output_type": "display_data"
    }
   ],
   "source": [
    "nx.draw(G,with_labels=True,node_color=\"pink\")\n",
    "plt.savefig(\"amigos.png\")"
   ]
  },
  {
   "cell_type": "markdown",
   "metadata": {},
   "source": [
    "# Nodos y enlaces"
   ]
  },
  {
   "cell_type": "markdown",
   "metadata": {},
   "source": [
    "## Nodos"
   ]
  },
  {
   "cell_type": "code",
   "execution_count": 8,
   "metadata": {},
   "outputs": [
    {
     "data": {
      "text/plain": [
       "NodeView(('Alicia', 'Beto', 'Carlos', 'David', 'Carmen', 'Monica', 'Jorge', 'Enrique', 'Rosa', 'Irene'))"
      ]
     },
     "execution_count": 8,
     "metadata": {},
     "output_type": "execute_result"
    }
   ],
   "source": [
    "nodos = nx.nodes(G)\n",
    "nodos"
   ]
  },
  {
   "cell_type": "code",
   "execution_count": 9,
   "metadata": {},
   "outputs": [
    {
     "data": {
      "text/plain": [
       "10"
      ]
     },
     "execution_count": 9,
     "metadata": {},
     "output_type": "execute_result"
    }
   ],
   "source": [
    "n = len(nodos)\n",
    "n"
   ]
  },
  {
   "cell_type": "markdown",
   "metadata": {},
   "source": [
    "## Enlaces"
   ]
  },
  {
   "cell_type": "code",
   "execution_count": 10,
   "metadata": {},
   "outputs": [
    {
     "data": {
      "text/plain": [
       "EdgeView([('Alicia', 'Beto'), ('Alicia', 'Carlos'), ('Alicia', 'David'), ('Alicia', 'Carmen'), ('Alicia', 'Monica'), ('Beto', 'Jorge'), ('Carlos', 'David'), ('Carlos', 'Monica'), ('Carmen', 'Monica'), ('Carmen', 'Irene'), ('Jorge', 'Enrique'), ('Jorge', 'Rosa'), ('Jorge', 'Irene'), ('Enrique', 'Rosa'), ('Enrique', 'Irene'), ('Rosa', 'Irene')])"
      ]
     },
     "execution_count": 10,
     "metadata": {},
     "output_type": "execute_result"
    }
   ],
   "source": [
    "enlaces = nx.edges(G)\n",
    "enlaces"
   ]
  },
  {
   "cell_type": "code",
   "execution_count": 11,
   "metadata": {},
   "outputs": [
    {
     "data": {
      "text/plain": [
       "16"
      ]
     },
     "execution_count": 11,
     "metadata": {},
     "output_type": "execute_result"
    }
   ],
   "source": [
    "m = len(enlaces)\n",
    "m"
   ]
  },
  {
   "cell_type": "markdown",
   "metadata": {},
   "source": [
    "# Distancias y caminos"
   ]
  },
  {
   "cell_type": "markdown",
   "metadata": {},
   "source": [
    "## Distancia y camino entre 2 personas\n",
    "La distancia entre 2 nodos es el la longitud del camino más corto\n",
    "### Carlos e Irene"
   ]
  },
  {
   "cell_type": "code",
   "execution_count": 39,
   "metadata": {},
   "outputs": [
    {
     "name": "stdout",
     "output_type": "stream",
     "text": [
      "El camino entre Carlos e Irene ['Carlos', 'Alicia', 'Carmen', 'Irene']\n"
     ]
    }
   ],
   "source": [
    "camino = nx.shortest_path(G,\"Carlos\",\"Irene\")\n",
    "print(\"El camino más corto entre Carlos e Irene \" + str(camino))"
   ]
  },
  {
   "cell_type": "code",
   "execution_count": 40,
   "metadata": {
    "scrolled": true
   },
   "outputs": [
    {
     "name": "stdout",
     "output_type": "stream",
     "text": [
      "La distancia entre Carlos e Irene es 3\n"
     ]
    }
   ],
   "source": [
    "distancia = nx.shortest_path_length(G,\"Carlos\",\"Irene\")\n",
    "print(\"La distancia entre Carlos e Irene es \" + str(distancia))"
   ]
  },
  {
   "cell_type": "markdown",
   "metadata": {},
   "source": [
    "### Carlos y Enrique"
   ]
  },
  {
   "cell_type": "code",
   "execution_count": 42,
   "metadata": {},
   "outputs": [
    {
     "name": "stdout",
     "output_type": "stream",
     "text": [
      "El camino más corto entre Carlos y Enrique ['Carlos', 'Alicia', 'Beto', 'Jorge', 'Enrique']\n",
      "El camino más corto entre Carlos y Enrique ['Carlos', 'Alicia', 'Carmen', 'Irene', 'Enrique']\n",
      "El camino más corto entre Carlos y Enrique ['Carlos', 'Monica', 'Carmen', 'Irene', 'Enrique']\n"
     ]
    }
   ],
   "source": [
    "caminos = nx.all_shortest_paths(G,\"Carlos\",\"Enrique\")\n",
    "for camino in caminos: print(\"El camino más corto entre Carlos y Enrique \" + str(camino))"
   ]
  },
  {
   "cell_type": "code",
   "execution_count": 43,
   "metadata": {},
   "outputs": [
    {
     "name": "stdout",
     "output_type": "stream",
     "text": [
      "La distancia entre Carlos e Irene es 4\n"
     ]
    }
   ],
   "source": [
    "car_en_dist = nx.shortest_path_length(G,\"Carlos\",\"Enrique\")\n",
    "print(\"La distancia entre Carlos e Enrique es \" + str(car_en_dist))"
   ]
  },
  {
   "cell_type": "markdown",
   "metadata": {},
   "source": [
    "## Funcion para mostrar los caminos (más cortos) y distancia"
   ]
  },
  {
   "cell_type": "code",
   "execution_count": 49,
   "metadata": {},
   "outputs": [],
   "source": [
    "def cam_dist(nodo1,nodo2):\n",
    "    caminos = nx.all_shortest_paths(G, nodo1, nodo2)\n",
    "    for camino in caminos: print(\"Uno de los caminos más corto entre \" + nodo1 + \" y \" + nodo2 +\" es \" + str(camino))\n",
    "    distancia = nx.shortest_path_length(G, nodo1, nodo2)\n",
    "    print(\"La distancia entre \" + nodo1 + \" y \" + nodo2 + \" es \" + str(distancia))"
   ]
  },
  {
   "cell_type": "markdown",
   "metadata": {},
   "source": [
    "Utilizamos las funciones para mostrar caminos y distancias"
   ]
  },
  {
   "cell_type": "code",
   "execution_count": 50,
   "metadata": {},
   "outputs": [
    {
     "name": "stdout",
     "output_type": "stream",
     "text": [
      "Uno de los caminos más corto entre Irene y Carlos es ['Irene', 'Carmen', 'Alicia', 'Carlos']\n",
      "Uno de los caminos más corto entre Irene y Carlos es ['Irene', 'Carmen', 'Monica', 'Carlos']\n",
      "La distancia entre Irene y Carlos es 3\n",
      "Uno de los caminos más corto entre Enrique y Carlos es ['Enrique', 'Jorge', 'Beto', 'Alicia', 'Carlos']\n",
      "Uno de los caminos más corto entre Enrique y Carlos es ['Enrique', 'Irene', 'Carmen', 'Alicia', 'Carlos']\n",
      "Uno de los caminos más corto entre Enrique y Carlos es ['Enrique', 'Irene', 'Carmen', 'Monica', 'Carlos']\n",
      "La distancia entre Enrique y Carlos es 4\n"
     ]
    }
   ],
   "source": [
    "cam_dist(\"Irene\",\"Carlos\")\n",
    "cam_dist(\"Enrique\",\"Carlos\")"
   ]
  },
  {
   "cell_type": "markdown",
   "metadata": {},
   "source": [
    "## Diámetro\n",
    "Distancia más larga entre dos nodos"
   ]
  },
  {
   "cell_type": "code",
   "execution_count": 6,
   "metadata": {
    "scrolled": true
   },
   "outputs": [
    {
     "name": "stdout",
     "output_type": "stream",
     "text": [
      "El diámetero de la red es 4\n"
     ]
    }
   ],
   "source": [
    "diametro = nx.diameter(G)\n",
    "print(\"El diámetero de la red es \" + str(diametro))"
   ]
  },
  {
   "cell_type": "markdown",
   "metadata": {},
   "source": [
    "## Distancia promedio"
   ]
  },
  {
   "cell_type": "code",
   "execution_count": 8,
   "metadata": {},
   "outputs": [
    {
     "name": "stdout",
     "output_type": "stream",
     "text": [
      "La distancia promedio es 2.022222222222222\n"
     ]
    }
   ],
   "source": [
    "prom_dist = nx.average_shortest_path_length(G)\n",
    "print(\"La distancia promedio es \" + str(prom_dist))"
   ]
  }
 ],
 "metadata": {
  "kernelspec": {
   "display_name": "Python 3",
   "language": "python",
   "name": "python3"
  },
  "language_info": {
   "codemirror_mode": {
    "name": "ipython",
    "version": 3
   },
   "file_extension": ".py",
   "mimetype": "text/x-python",
   "name": "python",
   "nbconvert_exporter": "python",
   "pygments_lexer": "ipython3",
   "version": "3.7.6"
  }
 },
 "nbformat": 4,
 "nbformat_minor": 4
}
